{
 "cells": [
  {
   "cell_type": "code",
   "execution_count": 1,
   "metadata": {},
   "outputs": [],
   "source": [
    "import numpy as np\n",
    "import math\n",
    "import matplotlib.pyplot as plt\n",
    "from matplotlib import rcParams"
   ]
  },
  {
   "cell_type": "code",
   "execution_count": 2,
   "metadata": {},
   "outputs": [],
   "source": [
    "class Lattice():\n",
    "    def __init__(self, size_x, size_y):\n",
    "        self._size_x = size_x\n",
    "        self._size_y = size_y\n",
    "        self._lattice = np.random.choice([-1, 1], size=(size_x, size_y))\n",
    "        \n",
    "    def get(self, i, *args):\n",
    "        if len(args) == 0:\n",
    "            i, j = i\n",
    "        else:\n",
    "            i, j = i, args[0]\n",
    "            \n",
    "        new_i = i % self._size_x\n",
    "        new_j = j % self._size_y\n",
    "        return self._lattice[new_i, new_j]\n",
    "\n",
    "    def flip(self, i, *args):\n",
    "        if len(args) == 0:\n",
    "            i, j = i\n",
    "        else:\n",
    "            i, j = i, args[0]\n",
    "            \n",
    "        new_i = i % self._size_x\n",
    "        new_j = j % self._size_y\n",
    "        self._lattice[new_i, new_j] = -self._lattice[new_i, new_j]\n",
    "    \n",
    "    def print(self):\n",
    "        print(self._lattice)\n",
    "        \n",
    "    def get_size(self):\n",
    "        return self._size_x, self._size_y\n",
    "    \n",
    "    def get_neighbors(self, i, *args):\n",
    "        if len(args) == 0:\n",
    "            i, j = i\n",
    "        else:\n",
    "            i, j = i, args[0]\n",
    "        \n",
    "        size_x, size_y = self.get_size()\n",
    "        \n",
    "        left_x, left_y = (i - 1) % size_x, j % size_y\n",
    "        right_x, right_y = (i + 1) % size_x, j % size_y\n",
    "        top_x, top_y = i % size_x, (j - 1) % size_y\n",
    "        bottom_x, bottom_y = i % size_x, (j + 1) % size_y\n",
    "        \n",
    "        left_result = self.get(left_x, left_y)\n",
    "        right_result = self.get(right_x, right_y)\n",
    "        top_result = self.get(top_x, top_y)\n",
    "        bottom_result = self.get(bottom_x, bottom_y)\n",
    "        \n",
    "        return (left_result, right_result, top_result, bottom_result), ((left_x, left_y), (right_x, right_y), (top_x, top_y), (bottom_x, bottom_y))\n",
    "\n",
    "    def get_lattice(self):\n",
    "        return self._lattice"
   ]
  },
  {
   "cell_type": "code",
   "execution_count": 3,
   "metadata": {},
   "outputs": [],
   "source": [
    "def compute_H(lattice, J):\n",
    "    H = 0\n",
    "    size_x, size_y = lattice.get_size()\n",
    "    for i in range(size_x):\n",
    "        for j in range(size_y):\n",
    "            sigma_ij = lattice.get(i, j)\n",
    "            neighbor_spins, neighbor_locations = lattice.get_neighbors(i, j)\n",
    "            for neighbor in neighbor_spins:\n",
    "                H += -J * sigma_ij * neighbor\n",
    "#     return H / (2 * size_x * size_y)\n",
    "    return H / 2"
   ]
  },
  {
   "cell_type": "code",
   "execution_count": 4,
   "metadata": {},
   "outputs": [],
   "source": [
    "def metropolis(lattice, J, beta, num_trials):\n",
    "    size_x, size_y = lattice.get_size()\n",
    "    for n in range(num_trials):\n",
    "        i, j = int(np.random.uniform(0, size_x)), int(np.random.uniform(0, size_y))\n",
    "\n",
    "        H_mol = 0\n",
    "        neighbor_spins, neighbor_locations = lattice.get_neighbors(i, j)\n",
    "        for neighbor in neighbor_spins:\n",
    "            H_mol += J * neighbor\n",
    "\n",
    "        delta_E = 2 * lattice.get(i, j) * H_mol\n",
    "\n",
    "        if np.random.uniform() < math.exp(-beta * delta_E):\n",
    "            lattice.flip(i, j)"
   ]
  },
  {
   "cell_type": "code",
   "execution_count": 5,
   "metadata": {},
   "outputs": [],
   "source": [
    "def metropolis_step(lattice, i, j, J, beta):\n",
    "    H_mol = 0\n",
    "    neighbor_spins, neighbor_locations = lattice.get_neighbors(i, j)\n",
    "    for neighbor in neighbor_spins:\n",
    "        H_mol += J * neighbor\n",
    "\n",
    "    delta_E = 2 * lattice.get(i, j) * H_mol\n",
    "\n",
    "    if np.random.uniform() < math.exp(-beta * delta_E):\n",
    "        lattice.flip(i, j)"
   ]
  },
  {
   "cell_type": "code",
   "execution_count": 6,
   "metadata": {},
   "outputs": [],
   "source": [
    "def metropolis_sim(N, J, Ts, num_mc_trials):\n",
    "    energies = []\n",
    "    lattice = Lattice(N, N)\n",
    "    for T in Ts:\n",
    "        beta = 1 / T\n",
    "        metropolis(lattice, J, beta, num_mc_trials)\n",
    "        H = compute_H(lattice, J)\n",
    "        energies.append(H)\n",
    "    return energies"
   ]
  },
  {
   "cell_type": "code",
   "execution_count": 7,
   "metadata": {},
   "outputs": [],
   "source": [
    "def wolff(lattice, J, beta, num_mc_trials):\n",
    "    size_x, size_y = lattice.get_size()\n",
    "    for n in range(num_mc_trials):\n",
    "        i, j = int(np.random.uniform(0, size_x)), int(np.random.uniform(0, size_y))\n",
    "\n",
    "        C = []\n",
    "        F_old = [(i, j)]\n",
    "\n",
    "        while len(F_old) != 0:\n",
    "            F_new = []\n",
    "            for site in F_old:\n",
    "                site_spin = lattice.get(site)\n",
    "                neighbor_spins, neighbor_locations = lattice.get_neighbors(site)\n",
    "                \n",
    "                same_neighbors = []\n",
    "                for spin, location in zip(neighbor_spins, neighbor_locations):\n",
    "                    x, y = location\n",
    "                    if spin == site_spin and location not in C:\n",
    "                        same_neighbors.append((spin, location))\n",
    "                        \n",
    "        \n",
    "                for spin, location in same_neighbors:\n",
    "                    if np.random.uniform() < 1 - math.exp(-2 * beta * J):\n",
    "                        F_new.append(location)\n",
    "                        x, y = location\n",
    "                        C.append(location)\n",
    "            F_old = F_new\n",
    "\n",
    "        for site in C:\n",
    "            lattice.flip(site)"
   ]
  },
  {
   "cell_type": "code",
   "execution_count": 8,
   "metadata": {},
   "outputs": [],
   "source": [
    "def wolff_fast(lattice, J, beta, num_mc_trials):\n",
    "    size_x, size_y = lattice.get_size()\n",
    "    for n in range(num_mc_trials):\n",
    "        i, j = int(np.random.uniform(0, size_x)), int(np.random.uniform(0, size_y))\n",
    "        \n",
    "        # All the points in the cluster of spins to flip\n",
    "        cluster = np.zeros((size_x, size_y))\n",
    "        cluster[i, j] = 1\n",
    "\n",
    "        \n",
    "        # All of the sites who's neighbors to consider for flipping at each round\n",
    "        F_old = np.zeros((size_x, size_y))\n",
    "        F_old[i, j] = 1\n",
    "        \n",
    "        num_sites_to_add = -1\n",
    "\n",
    "        spin = lattice.get(i, j)\n",
    "        like_spin = lattice.get_lattice() == spin\n",
    "        \n",
    "        while num_sites_to_add != 0:           \n",
    "            # Shift around the old edges of the cluster to find new ones\n",
    "            left = np.roll(F_old, -1, axis=1)\n",
    "            right = np.roll(F_old, 1, axis=1)\n",
    "            top = np.roll(F_old, -1, axis=0)\n",
    "            bottom = np.roll(F_old, 1, axis=0)\n",
    "\n",
    "            edges = np.zeros((size_x, size_y))\n",
    "            edges = (left + right + top + bottom)\n",
    "            # Don't include new edges that are inside the cluster\n",
    "            edges[np.where(cluster == 1)] = 0\n",
    "            # Identify all of the edges of the cluster\n",
    "            on_edge = edges >= 1\n",
    "            \n",
    "            # Identfy where all of the new edges are and which have spins that match the cluster's\n",
    "            neighbor_sites = np.where(like_spin & on_edge)\n",
    "            \n",
    "            locations_to_add = np.where(np.random.uniform(size=neighbor_sites[0].size) < 1 - math.exp(-2 * beta * J))\n",
    "            \n",
    "            sites_to_add = (neighbor_sites[0][locations_to_add], neighbor_sites[1][locations_to_add])\n",
    "            num_sites_to_add = sites_to_add[0].shape[0]\n",
    "            # Add the sites to the cluster\n",
    "            cluster[sites_to_add] = 1\n",
    "            # Add the added edges to the list of considered edges for next time\n",
    "            F_new = np.zeros((size_x, size_y))\n",
    "            F_new[sites_to_add] = 1\n",
    "            \n",
    "            F_old = F_new\n",
    "            \n",
    "        # Flip the spins that are inside the cluster\n",
    "        lattice.flip(np.where(cluster == 1))"
   ]
  },
  {
   "cell_type": "code",
   "execution_count": 9,
   "metadata": {},
   "outputs": [],
   "source": [
    "def wolff_step(lattice, i, j, J, beta):\n",
    "    size_x, size_y = lattice.get_size()\n",
    "        \n",
    "    # All the points in the cluster of spins to flip\n",
    "    cluster = np.zeros((size_x, size_y))\n",
    "    cluster[i, j] = 1\n",
    "\n",
    "    # All of the sites who's neighbors to consider for flipping at each round\n",
    "    F_old = np.zeros((size_x, size_y))\n",
    "    F_old[i, j] = 1\n",
    "\n",
    "    num_sites_to_add = -1\n",
    "\n",
    "    spin = lattice.get(i, j)\n",
    "    like_spin = lattice.get_lattice() == spin\n",
    "\n",
    "    while num_sites_to_add != 0:           \n",
    "        # Shift around the old edges of the cluster to find new ones\n",
    "        left = np.roll(F_old, -1, axis=1)\n",
    "        right = np.roll(F_old, 1, axis=1)\n",
    "        top = np.roll(F_old, -1, axis=0)\n",
    "        bottom = np.roll(F_old, 1, axis=0)\n",
    "\n",
    "        edges = np.zeros((size_x, size_y))\n",
    "        edges = (left + right + top + bottom)\n",
    "        # Don't include new edges that are inside the cluster\n",
    "        edges[np.where(cluster == 1)] = 0\n",
    "        # Identify all of the edges of the cluster\n",
    "        on_edge = edges >= 1\n",
    "\n",
    "        # Identfy where all of the new edges are and which have spins that match the cluster's\n",
    "        neighbor_sites = np.where(like_spin & on_edge)\n",
    "\n",
    "        locations_to_add = np.where(np.random.uniform(size=neighbor_sites[0].size) < 1 - math.exp(-2 * beta * J))\n",
    "\n",
    "        sites_to_add = (neighbor_sites[0][locations_to_add], neighbor_sites[1][locations_to_add])\n",
    "        num_sites_to_add = sites_to_add[0].shape[0]\n",
    "        # Add the sites to the cluster\n",
    "        cluster[sites_to_add] = 1\n",
    "        # Add the added edges to the list of considered edges for next time\n",
    "        F_new = np.zeros((size_x, size_y))\n",
    "        F_new[sites_to_add] = 1\n",
    "\n",
    "        F_old = F_new\n",
    "\n",
    "    # Flip the spins that are inside the cluster\n",
    "    lattice.flip(np.where(cluster == 1))"
   ]
  },
  {
   "cell_type": "code",
   "execution_count": 10,
   "metadata": {},
   "outputs": [],
   "source": [
    "def wolff_sim(N, J, Ts, num_mc_trials, fast=True):\n",
    "    energies = []\n",
    "    for T in Ts:\n",
    "        lattice = Lattice(N, N)\n",
    "        \n",
    "        beta = 1 / T\n",
    "        if fast:\n",
    "            wolff_fast(lattice, J, beta, num_mc_trials)\n",
    "        else:\n",
    "            wolff(lattice, J, beta, num_mc_trials)\n",
    "        H = compute_H(lattice, J)\n",
    "        energies.append(H / (2*N**2))\n",
    "    return energies"
   ]
  },
  {
   "cell_type": "code",
   "execution_count": 11,
   "metadata": {},
   "outputs": [],
   "source": [
    "def sweep_metropolis(lattice, J, beta):\n",
    "    size_x, size_y = lattice.get_size()\n",
    "    for x in range(size_x):\n",
    "        for y in range(size_y):\n",
    "            metropolis_step(lattice, x, y, J, beta)"
   ]
  },
  {
   "cell_type": "code",
   "execution_count": 12,
   "metadata": {},
   "outputs": [],
   "source": [
    "def sweep_wolff(lattice, J, beta):\n",
    "    size_x, size_y = lattice.get_size()\n",
    "    for x in range(size_x):\n",
    "        for y in range(size_y):\n",
    "            wolff_step(lattice, x, y, J, beta)"
   ]
  },
  {
   "cell_type": "code",
   "execution_count": 23,
   "metadata": {},
   "outputs": [],
   "source": [
    "def thermalize(lattice, J, beta, sim_type):\n",
    "    if sim_type == 'metropolis':\n",
    "        max_iter = 10000\n",
    "        for n in range(max_iter):\n",
    "            sweep_metropolis(lattice, J, beta)\n",
    "    elif sim_type == 'wolff':\n",
    "        max_iter = 10\n",
    "        for n in range(max_iter):\n",
    "            sweep_wolff(lattice, J, beta)"
   ]
  },
  {
   "cell_type": "code",
   "execution_count": 14,
   "metadata": {},
   "outputs": [],
   "source": [
    "def metropolis_sim_sweep(N, J, beta):\n",
    "    lattice = Lattice(N, N)\n",
    "    \n",
    "    thermalize(lattice, J, beta, 'metropolis')\n",
    "    \n",
    "    num_snapshots = 10\n",
    "    num_sweeps = 1\n",
    "    \n",
    "    energies = np.zeros(num_snapshots)\n",
    "    \n",
    "    for s in range(num_snapshots):\n",
    "        for n in range(num_sweeps):\n",
    "            sweep_metropolis(lattice, J, beta)\n",
    "            energies[s] = compute_H(lattice, J)\n",
    "            \n",
    "    return energies"
   ]
  },
  {
   "cell_type": "code",
   "execution_count": 15,
   "metadata": {},
   "outputs": [],
   "source": [
    "def wolff_sim_sweep(N, J, beta):\n",
    "    lattice = Lattice(N, N)\n",
    "    \n",
    "    thermalize(lattice, J, beta, 'wolff')\n",
    "    \n",
    "    num_snapshots = 10\n",
    "    num_sweeps = 3\n",
    "    \n",
    "    energies = np.zeros(num_snapshots)\n",
    "    \n",
    "    for s in range(num_snapshots):\n",
    "        for n in range(num_sweeps):\n",
    "            sweep_wolff(lattice, J, beta)\n",
    "            energies[s] = compute_H(lattice, J)\n",
    "            \n",
    "    return energies"
   ]
  },
  {
   "cell_type": "code",
   "execution_count": 107,
   "metadata": {},
   "outputs": [],
   "source": [
    "# Metropolis simulation\n",
    "N = 30\n",
    "J = 1\n",
    "Ts = np.linspace(1, 5, 10)\n",
    "num_mc_trials = 20000\n",
    "\n",
    "energies = metropolis_sim(N, J, Ts, num_mc_trials)\n",
    "\n",
    "out_file = open(\"energies_metropolis_new.out\", \"w\")\n",
    "for t, e in zip(Ts, energies):\n",
    "    out_file.write(\"{} {}\\n\".format(t, e))\n",
    "\n",
    "out_file.close()\n",
    "\n",
    "# plt.plot(Ts, energies, linestyle=\"None\", marker=\"^\", color=\"green\")"
   ]
  },
  {
   "cell_type": "code",
   "execution_count": 23,
   "metadata": {},
   "outputs": [],
   "source": [
    "# metropolis simulation\n",
    "N = 30\n",
    "J = 1\n",
    "Ts = np.linspace(0.1, 5, 10)\n",
    "num_mc_trials = 10000\n",
    "\n",
    "num_average = 10\n",
    "\n",
    "energies = np.zeros((num_average, len(Ts)))\n",
    "\n",
    "for i in range(num_average):\n",
    "    result = metropolis_sim(N, J, Ts, num_mc_trials)\n",
    "    energies[i, :] = np.asarray(result)"
   ]
  },
  {
   "cell_type": "code",
   "execution_count": 24,
   "metadata": {},
   "outputs": [
    {
     "name": "stdout",
     "output_type": "stream",
     "text": [
      "[-1.64222222 -1.75377778 -1.77111111 -1.67244444 -1.31466667 -0.95644444\n",
      " -0.70311111 -0.58222222 -0.464      -0.44888889]\n"
     ]
    },
    {
     "data": {
      "text/plain": [
       "[<matplotlib.lines.Line2D at 0x7f961fe6b048>]"
      ]
     },
     "execution_count": 24,
     "metadata": {},
     "output_type": "execute_result"
    },
    {
     "data": {
      "image/png": "[encoded data removed]",
      "text/plain": [
       "<matplotlib.figure.Figure at 0x7f961fc1fb38>"
      ]
     },
     "metadata": {},
     "output_type": "display_data"
    }
   ],
   "source": [
    "avg_energy = np.sum(energies, axis=0) / num_average\n",
    "print(avg_energy)\n",
    "\n",
    "# energies = metropolis_sim(N, J, Ts, num_mc_trials)\n",
    "\n",
    "# out_file = open(\"energies_metropolis.out\", \"w\")\n",
    "# for t, e in zip(Ts, energies):\n",
    "#     out_file.write(\"{} {}\\n\".format(t, e))\n",
    "# out_file.close()\n",
    "\n",
    "plt.plot(Ts, avg_energy, linestyle=\"None\", marker=\"^\", color=\"green\")"
   ]
  },
  {
   "cell_type": "code",
   "execution_count": null,
   "metadata": {},
   "outputs": [],
   "source": [
    "# Wolff simulation\n",
    "N = 30\n",
    "J = 1\n",
    "Ts = np.linspace(0.01, 5, 200)\n",
    "num_mc_trials = 20000\n",
    "\n",
    "energies = wolff_sim(N, J, Ts, num_mc_trials)\n",
    "\n",
    "out_file = open(\"energies_wolff_new.out\", \"w\")\n",
    "for t, e in zip(Ts, energies):\n",
    "    out_file.write(\"{} {}\\n\".format(t, e))\n",
    "out_file.close()\n",
    "\n",
    "# plt.plot(Ts, energies, linestyle=\"None\", marker=\"^\", color=\"green\")"
   ]
  },
  {
   "cell_type": "code",
   "execution_count": 36,
   "metadata": {},
   "outputs": [
    {
     "data": {
      "image/png": "[encoded data removed]",
      "text/plain": [
       "<matplotlib.figure.Figure at 0x7f961fa1d358>"
      ]
     },
     "metadata": {},
     "output_type": "display_data"
    }
   ],
   "source": [
    "Ts = []\n",
    "energies = []\n",
    "with open(\"energies_metropolis.out\", 'r') as in_file:\n",
    "    lines = in_file.readlines()\n",
    "    for l in lines:\n",
    "        Ts.append(float(l.split()[0]))\n",
    "        energies.append(float(l.split()[1]))\n",
    "        \n",
    "f, ax = plt.subplots(figsize=(14, 10))\n",
    "rcParams['font.size'] = 22\n",
    "\n",
    "ax.plot(Ts, energies, linestyle=\"None\", marker=\"^\", color=\"green\", label='Metropolis')\n",
    "ax.set_ylabel(r\"$\\langle E \\rangle$\", rotation=0)\n",
    "ax.set_xlabel(r\"$T$\")\n",
    "\n",
    "plt.legend()\n",
    "plt.show()"
   ]
  },
  {
   "cell_type": "code",
   "execution_count": 35,
   "metadata": {},
   "outputs": [
    {
     "data": {
      "image/png": "[encoded data removed]",
      "text/plain": [
       "<matplotlib.figure.Figure at 0x7f961f98c1d0>"
      ]
     },
     "metadata": {},
     "output_type": "display_data"
    }
   ],
   "source": [
    "Ts = []\n",
    "energies = []\n",
    "with open(\"energies_wolff.out\", 'r') as in_file:\n",
    "    lines = in_file.readlines()\n",
    "    for l in lines:\n",
    "        Ts.append(float(l.split()[0]))\n",
    "        energies.append(float(l.split()[1]))\n",
    "        \n",
    "f, ax = plt.subplots(figsize=(14, 10))\n",
    "rcParams['font.size'] = 22\n",
    "\n",
    "ax.plot(Ts, energies, linestyle=\"None\", marker=\"o\", color=\"gold\", label='Wolff')\n",
    "ax.set_ylabel(r\"$\\langle E \\rangle$\", rotation=0)\n",
    "ax.set_xlabel(r\"$T$\")\n",
    "\n",
    "plt.legend()\n",
    "plt.show()"
   ]
  },
  {
   "cell_type": "code",
   "execution_count": 37,
   "metadata": {},
   "outputs": [
    {
     "data": {
      "text/plain": [
       "<matplotlib.image.AxesImage at 0x7f961fb71748>"
      ]
     },
     "execution_count": 37,
     "metadata": {},
     "output_type": "execute_result"
    },
    {
     "data": {
      "image/png": "[encoded data removed]",
      "text/plain": [
       "<matplotlib.figure.Figure at 0x7f961f9cb9e8>"
      ]
     },
     "metadata": {},
     "output_type": "display_data"
    }
   ],
   "source": [
    "lattice = Lattice(30, 30)\n",
    "plt.imshow(lattice.get_lattice(), cmap='binary')"
   ]
  },
  {
   "cell_type": "code",
   "execution_count": 38,
   "metadata": {},
   "outputs": [
    {
     "data": {
      "text/plain": [
       "<matplotlib.image.AxesImage at 0x7f961fa0d748>"
      ]
     },
     "execution_count": 38,
     "metadata": {},
     "output_type": "execute_result"
    },
    {
     "data": {
      "image/png": "[encoded data removed]",
      "text/plain": [
       "<matplotlib.figure.Figure at 0x7f961fbf4cf8>"
      ]
     },
     "metadata": {},
     "output_type": "display_data"
    }
   ],
   "source": [
    "metropolis(lattice, 1, 1, 100)\n",
    "plt.imshow(lattice.get_lattice(), cmap='binary')"
   ]
  },
  {
   "cell_type": "code",
   "execution_count": 60,
   "metadata": {},
   "outputs": [
    {
     "data": {
      "text/plain": [
       "(array([  7.,   8.,  10.,  24.,  29.,  15.,   5.,   1.,   0.,   1.]),\n",
       " array([-1648., -1600., -1552., -1504., -1456., -1408., -1360., -1312.,\n",
       "        -1264., -1216., -1168.]),\n",
       " <a list of 10 Patch objects>)"
      ]
     },
     "execution_count": 60,
     "metadata": {},
     "output_type": "execute_result"
    },
    {
     "data": {
      "image/png": "[encoded data removed]",
      "text/plain": [
       "<matplotlib.figure.Figure at 0x7f961f6e6278>"
      ]
     },
     "metadata": {},
     "output_type": "display_data"
    }
   ],
   "source": [
    "energies = []\n",
    "for n in range(100):\n",
    "    lattice = Lattice(30, 30)\n",
    "    metropolis(lattice, 1, 1, 1000)\n",
    "    energies.append(compute_H(lattice, 1))\n",
    "#     plt.imshow(lattice.get_lattice(), cmap='binary')\n",
    "plt.hist(energies)"
   ]
  },
  {
   "cell_type": "code",
   "execution_count": 61,
   "metadata": {},
   "outputs": [
    {
     "data": {
      "text/plain": [
       "(array([  2.,   3.,  12.,  23.,  21.,  14.,  22.,   2.,   0.,   1.]),\n",
       " array([-3176. , -3125.6, -3075.2, -3024.8, -2974.4, -2924. , -2873.6,\n",
       "        -2823.2, -2772.8, -2722.4, -2672. ]),\n",
       " <a list of 10 Patch objects>)"
      ]
     },
     "execution_count": 61,
     "metadata": {},
     "output_type": "execute_result"
    },
    {
     "data": {
      "image/png": "[encoded data removed]",
      "text/plain": [
       "<matplotlib.figure.Figure at 0x7f961f698128>"
      ]
     },
     "metadata": {},
     "output_type": "display_data"
    }
   ],
   "source": [
    "energies = []\n",
    "for n in range(100):\n",
    "    lattice = Lattice(30, 30)\n",
    "    metropolis(lattice, 1, 1, 10000)\n",
    "    energies.append(compute_H(lattice, 1))\n",
    "#     plt.imshow(lattice.get_lattice(), cmap='binary')\n",
    "plt.hist(energies)"
   ]
  },
  {
   "cell_type": "code",
   "execution_count": 62,
   "metadata": {},
   "outputs": [
    {
     "data": {
      "text/plain": [
       "(array([ 43.,   0.,   3.,   8.,  12.,  12.,  20.,   1.,   0.,   1.]),\n",
       " array([-3600. , -3550.4, -3500.8, -3451.2, -3401.6, -3352. , -3302.4,\n",
       "        -3252.8, -3203.2, -3153.6, -3104. ]),\n",
       " <a list of 10 Patch objects>)"
      ]
     },
     "execution_count": 62,
     "metadata": {},
     "output_type": "execute_result"
    },
    {
     "data": {
      "image/png": "[encoded data removed]",
      "text/plain": [
       "<matplotlib.figure.Figure at 0x7f961f656c50>"
      ]
     },
     "metadata": {},
     "output_type": "display_data"
    }
   ],
   "source": [
    "energies = []\n",
    "for n in range(100):\n",
    "    lattice = Lattice(30, 30)\n",
    "    metropolis(lattice, 1, 1, 100000)\n",
    "    energies.append(compute_H(lattice, 1))\n",
    "#     plt.imshow(lattice.get_lattice(), cmap='binary')\n",
    "plt.hist(energies)"
   ]
  },
  {
   "cell_type": "code",
   "execution_count": 77,
   "metadata": {},
   "outputs": [
    {
     "data": {
      "text/plain": [
       "<matplotlib.image.AxesImage at 0x7f961f329080>"
      ]
     },
     "execution_count": 77,
     "metadata": {},
     "output_type": "execute_result"
    },
    {
     "data": {
      "image/png": "[encoded data removed]",
      "text/plain": [
       "<matplotlib.figure.Figure at 0x7f961f39d2b0>"
      ]
     },
     "metadata": {},
     "output_type": "display_data"
    }
   ],
   "source": [
    "lattice = Lattice(30, 30)\n",
    "metropolis(lattice, 1, 0.5, 100000)\n",
    "plt.imshow(lattice.get_lattice(), cmap='binary')"
   ]
  },
  {
   "cell_type": "code",
   "execution_count": 82,
   "metadata": {},
   "outputs": [
    {
     "data": {
      "text/plain": [
       "(array([ 1.,  1.,  0.,  0.,  0.,  3.,  1.,  0.,  2.,  2.]),\n",
       " array([-1.76888889, -1.75955556, -1.75022222, -1.74088889, -1.73155556,\n",
       "        -1.72222222, -1.71288889, -1.70355556, -1.69422222, -1.68488889,\n",
       "        -1.67555556]),\n",
       " <a list of 10 Patch objects>)"
      ]
     },
     "execution_count": 82,
     "metadata": {},
     "output_type": "execute_result"
    },
    {
     "data": {
      "image/png": "[encoded data removed]",
      "text/plain": [
       "<matplotlib.figure.Figure at 0x7f961f20ee80>"
      ]
     },
     "metadata": {},
     "output_type": "display_data"
    }
   ],
   "source": [
    "energies = []\n",
    "for n in range(10):\n",
    "    lattice = Lattice(30, 30)\n",
    "    metropolis(lattice, 1, 0.5, 1000000)\n",
    "    energies.append(compute_H(lattice, 1) / (2 * 30**2))\n",
    "#     plt.imshow(lattice.get_lattice(), cmap='binary')\n",
    "plt.hist(energies)"
   ]
  },
  {
   "cell_type": "code",
   "execution_count": 96,
   "metadata": {},
   "outputs": [],
   "source": [
    "lattice = Lattice(30, 30)\n",
    "metropolis(lattice, 1, 0.5, 1000000)"
   ]
  },
  {
   "cell_type": "code",
   "execution_count": 98,
   "metadata": {},
   "outputs": [],
   "source": [
    "lattice = np.random.choice([-1, 1], size=(30, 30))"
   ]
  },
  {
   "cell_type": "code",
   "execution_count": 120,
   "metadata": {},
   "outputs": [
    {
     "name": "stdout",
     "output_type": "stream",
     "text": [
      "11.3 µs ± 1.22 µs per loop (mean ± std. dev. of 7 runs, 100000 loops each)\n"
     ]
    }
   ],
   "source": [
    "lattice = Lattice(30, 30)\n",
    "%timeit metropolis(lattice, 1, 1, 1)"
   ]
  },
  {
   "cell_type": "code",
   "execution_count": 115,
   "metadata": {},
   "outputs": [],
   "source": [
    "%%cython\n",
    "import math\n",
    "import numpy as np\n",
    "def metropolis_c(lattice, J, beta, num_trials):\n",
    "    size_x, size_y = lattice.get_size()\n",
    "    for n in range(num_trials):\n",
    "        i, j = int(np.random.uniform(0, size_x)), int(np.random.uniform(0, size_y))\n",
    "\n",
    "        H_mol = 0\n",
    "        neighbor_spins, neighbor_locations = lattice.get_neighbors(i, j)\n",
    "        for neighbor in neighbor_spins:\n",
    "            H_mol += J * neighbor\n",
    "\n",
    "        delta_E = 2 * lattice.get(i, j) * H_mol\n",
    "\n",
    "        if np.random.uniform() < math.exp(-beta * delta_E):\n",
    "            lattice.flip(i, j)"
   ]
  },
  {
   "cell_type": "code",
   "execution_count": 121,
   "metadata": {},
   "outputs": [
    {
     "name": "stdout",
     "output_type": "stream",
     "text": [
      "10.6 µs ± 578 ns per loop (mean ± std. dev. of 7 runs, 100000 loops each)\n"
     ]
    }
   ],
   "source": [
    "lattice = Lattice(30, 30)\n",
    "%timeit metropolis_c(lattice, 1, 1, 1)"
   ]
  },
  {
   "cell_type": "code",
   "execution_count": 72,
   "metadata": {},
   "outputs": [
    {
     "data": {
      "image/png": "[encoded data removed]",
      "text/plain": [
       "<matplotlib.figure.Figure at 0x7f9593316940>"
      ]
     },
     "metadata": {},
     "output_type": "display_data"
    }
   ],
   "source": [
    "lattice = Lattice(30, 30)\n",
    "plt.imshow(lattice.get_lattice())\n",
    "thermalize(lattice, 1, 0.5, 'metropolis')"
   ]
  },
  {
   "cell_type": "code",
   "execution_count": 73,
   "metadata": {},
   "outputs": [
    {
     "data": {
      "text/plain": [
       "<matplotlib.image.AxesImage at 0x7f95932ac048>"
      ]
     },
     "execution_count": 73,
     "metadata": {},
     "output_type": "execute_result"
    },
    {
     "data": {
      "image/png": "[encoded data removed]",
      "text/plain": [
       "<matplotlib.figure.Figure at 0x7f959331eb38>"
      ]
     },
     "metadata": {},
     "output_type": "display_data"
    }
   ],
   "source": [
    "plt.imshow(lattice.get_lattice())"
   ]
  },
  {
   "cell_type": "code",
   "execution_count": 41,
   "metadata": {},
   "outputs": [],
   "source": [
    "lattice = Lattice(30, 30)\n",
    "energies = metropolis_sim_sweep(lattice, 0.5, 1)"
   ]
  },
  {
   "cell_type": "code",
   "execution_count": 42,
   "metadata": {},
   "outputs": [
    {
     "data": {
      "text/plain": [
       "(array([  6.,   8.,  18.,  24.,  16.,  14.,   7.,   5.,   1.,   1.]),\n",
       " array([-0.93111111, -0.91555556, -0.9       , -0.88444444, -0.86888889,\n",
       "        -0.85333333, -0.83777778, -0.82222222, -0.80666667, -0.79111111,\n",
       "        -0.77555556]),\n",
       " <a list of 10 Patch objects>)"
      ]
     },
     "execution_count": 42,
     "metadata": {},
     "output_type": "execute_result"
    },
    {
     "data": {
      "image/png": "[encoded data removed]",
      "text/plain": [
       "<matplotlib.figure.Figure at 0x7f95936e4c18>"
      ]
     },
     "metadata": {},
     "output_type": "display_data"
    }
   ],
   "source": [
    "plt.hist(energies)"
   ]
  },
  {
   "cell_type": "code",
   "execution_count": 34,
   "metadata": {},
   "outputs": [
    {
     "data": {
      "text/plain": [
       "-1.9911111111111111"
      ]
     },
     "execution_count": 34,
     "metadata": {},
     "output_type": "execute_result"
    }
   ],
   "source": [
    "compute_H(lattice, 1)"
   ]
  },
  {
   "cell_type": "code",
   "execution_count": 59,
   "metadata": {},
   "outputs": [],
   "source": [
    "lattice = Lattice(30, 30)\n",
    "energies = wolff_sim_sweep(lattice, 1, 1)"
   ]
  },
  {
   "cell_type": "code",
   "execution_count": 60,
   "metadata": {},
   "outputs": [
    {
     "data": {
      "text/plain": [
       "(array([ 3.,  0.,  0.,  3.,  0.,  1.,  0.,  1.,  0.,  2.]),\n",
       " array([-1.92888889, -1.92133333, -1.91377778, -1.90622222, -1.89866667,\n",
       "        -1.89111111, -1.88355556, -1.876     , -1.86844444, -1.86088889,\n",
       "        -1.85333333]),\n",
       " <a list of 10 Patch objects>)"
      ]
     },
     "execution_count": 60,
     "metadata": {},
     "output_type": "execute_result"
    },
    {
     "data": {
      "image/png": "[encoded data removed]",
      "text/plain": [
       "<matplotlib.figure.Figure at 0x7f95934e0b38>"
      ]
     },
     "metadata": {},
     "output_type": "display_data"
    }
   ],
   "source": [
    "plt.hist(energies)"
   ]
  },
  {
   "cell_type": "code",
   "execution_count": 129,
   "metadata": {},
   "outputs": [
    {
     "ename": "KeyboardInterrupt",
     "evalue": "",
     "output_type": "error",
     "traceback": [
      "\u001b[0;31m---------------------------------------------------------------------------\u001b[0m",
      "\u001b[0;31mKeyboardInterrupt\u001b[0m                         Traceback (most recent call last)",
      "\u001b[0;32m<ipython-input-129-8248f33796cb>\u001b[0m in \u001b[0;36m<module>\u001b[0;34m()\u001b[0m\n\u001b[1;32m      8\u001b[0m \u001b[0;32mfor\u001b[0m \u001b[0mT\u001b[0m \u001b[0;32min\u001b[0m \u001b[0mTs\u001b[0m\u001b[0;34m:\u001b[0m\u001b[0;34m\u001b[0m\u001b[0m\n\u001b[1;32m      9\u001b[0m     \u001b[0mbeta\u001b[0m \u001b[0;34m=\u001b[0m \u001b[0;36m1\u001b[0m \u001b[0;34m/\u001b[0m \u001b[0mT\u001b[0m\u001b[0;34m\u001b[0m\u001b[0m\n\u001b[0;32m---> 10\u001b[0;31m     \u001b[0menergies\u001b[0m\u001b[0;34m.\u001b[0m\u001b[0mappend\u001b[0m\u001b[0;34m(\u001b[0m\u001b[0mmetropolis_sim_sweep\u001b[0m\u001b[0;34m(\u001b[0m\u001b[0mN\u001b[0m\u001b[0;34m,\u001b[0m \u001b[0mJ\u001b[0m\u001b[0;34m,\u001b[0m \u001b[0mbeta\u001b[0m\u001b[0;34m)\u001b[0m\u001b[0;34m)\u001b[0m\u001b[0;34m\u001b[0m\u001b[0m\n\u001b[0m\u001b[1;32m     11\u001b[0m \u001b[0;34m\u001b[0m\u001b[0m\n\u001b[1;32m     12\u001b[0m \u001b[0;32mwith\u001b[0m \u001b[0mopen\u001b[0m\u001b[0;34m(\u001b[0m\u001b[0;34m\"metropolis_t_e_c_sweep.out\"\u001b[0m\u001b[0;34m,\u001b[0m \u001b[0;34m\"w\"\u001b[0m\u001b[0;34m)\u001b[0m \u001b[0;32mas\u001b[0m \u001b[0mout_file\u001b[0m\u001b[0;34m:\u001b[0m\u001b[0;34m\u001b[0m\u001b[0m\n",
      "\u001b[0;32m<ipython-input-127-47611b7e3599>\u001b[0m in \u001b[0;36mmetropolis_sim_sweep\u001b[0;34m(N, J, beta)\u001b[0m\n\u001b[1;32m      2\u001b[0m     \u001b[0mlattice\u001b[0m \u001b[0;34m=\u001b[0m \u001b[0mLattice\u001b[0m\u001b[0;34m(\u001b[0m\u001b[0mN\u001b[0m\u001b[0;34m,\u001b[0m \u001b[0mN\u001b[0m\u001b[0;34m)\u001b[0m\u001b[0;34m\u001b[0m\u001b[0m\n\u001b[1;32m      3\u001b[0m \u001b[0;34m\u001b[0m\u001b[0m\n\u001b[0;32m----> 4\u001b[0;31m     \u001b[0mthermalize\u001b[0m\u001b[0;34m(\u001b[0m\u001b[0mlattice\u001b[0m\u001b[0;34m,\u001b[0m \u001b[0mJ\u001b[0m\u001b[0;34m,\u001b[0m \u001b[0mbeta\u001b[0m\u001b[0;34m,\u001b[0m \u001b[0;34m'metropolis'\u001b[0m\u001b[0;34m)\u001b[0m\u001b[0;34m\u001b[0m\u001b[0m\n\u001b[0m\u001b[1;32m      5\u001b[0m \u001b[0;34m\u001b[0m\u001b[0m\n\u001b[1;32m      6\u001b[0m     \u001b[0mnum_snapshots\u001b[0m \u001b[0;34m=\u001b[0m \u001b[0;36m10\u001b[0m\u001b[0;34m\u001b[0m\u001b[0m\n",
      "\u001b[0;32m<ipython-input-126-d18ad5e5bfb1>\u001b[0m in \u001b[0;36mthermalize\u001b[0;34m(lattice, J, beta, sim_type)\u001b[0m\n\u001b[1;32m      3\u001b[0m         \u001b[0mmax_iter\u001b[0m \u001b[0;34m=\u001b[0m \u001b[0;36m1000\u001b[0m\u001b[0;34m\u001b[0m\u001b[0m\n\u001b[1;32m      4\u001b[0m         \u001b[0;32mfor\u001b[0m \u001b[0mn\u001b[0m \u001b[0;32min\u001b[0m \u001b[0mrange\u001b[0m\u001b[0;34m(\u001b[0m\u001b[0mmax_iter\u001b[0m\u001b[0;34m)\u001b[0m\u001b[0;34m:\u001b[0m\u001b[0;34m\u001b[0m\u001b[0m\n\u001b[0;32m----> 5\u001b[0;31m             \u001b[0msweep_metropolis\u001b[0m\u001b[0;34m(\u001b[0m\u001b[0mlattice\u001b[0m\u001b[0;34m,\u001b[0m \u001b[0mJ\u001b[0m\u001b[0;34m,\u001b[0m \u001b[0mbeta\u001b[0m\u001b[0;34m)\u001b[0m\u001b[0;34m\u001b[0m\u001b[0m\n\u001b[0m\u001b[1;32m      6\u001b[0m     \u001b[0;32melif\u001b[0m \u001b[0msim_type\u001b[0m \u001b[0;34m==\u001b[0m \u001b[0;34m'wolff'\u001b[0m\u001b[0;34m:\u001b[0m\u001b[0;34m\u001b[0m\u001b[0m\n\u001b[1;32m      7\u001b[0m         \u001b[0mmax_iter\u001b[0m \u001b[0;34m=\u001b[0m \u001b[0;36m10\u001b[0m\u001b[0;34m\u001b[0m\u001b[0m\n",
      "\u001b[0;32m<ipython-input-74-121759634a95>\u001b[0m in \u001b[0;36msweep_metropolis\u001b[0;34m(lattice, J, beta)\u001b[0m\n\u001b[1;32m      3\u001b[0m     \u001b[0;32mfor\u001b[0m \u001b[0mx\u001b[0m \u001b[0;32min\u001b[0m \u001b[0mrange\u001b[0m\u001b[0;34m(\u001b[0m\u001b[0msize_x\u001b[0m\u001b[0;34m)\u001b[0m\u001b[0;34m:\u001b[0m\u001b[0;34m\u001b[0m\u001b[0m\n\u001b[1;32m      4\u001b[0m         \u001b[0;32mfor\u001b[0m \u001b[0my\u001b[0m \u001b[0;32min\u001b[0m \u001b[0mrange\u001b[0m\u001b[0;34m(\u001b[0m\u001b[0msize_y\u001b[0m\u001b[0;34m)\u001b[0m\u001b[0;34m:\u001b[0m\u001b[0;34m\u001b[0m\u001b[0m\n\u001b[0;32m----> 5\u001b[0;31m             \u001b[0mmetropolis_step\u001b[0m\u001b[0;34m(\u001b[0m\u001b[0mlattice\u001b[0m\u001b[0;34m,\u001b[0m \u001b[0mx\u001b[0m\u001b[0;34m,\u001b[0m \u001b[0my\u001b[0m\u001b[0;34m,\u001b[0m \u001b[0mJ\u001b[0m\u001b[0;34m,\u001b[0m \u001b[0mbeta\u001b[0m\u001b[0;34m)\u001b[0m\u001b[0;34m\u001b[0m\u001b[0m\n\u001b[0m",
      "\u001b[0;32m<ipython-input-10-78876601433d>\u001b[0m in \u001b[0;36mmetropolis_step\u001b[0;34m(lattice, i, j, J, beta)\u001b[0m\n\u001b[1;32m      5\u001b[0m         \u001b[0mH_mol\u001b[0m \u001b[0;34m+=\u001b[0m \u001b[0mJ\u001b[0m \u001b[0;34m*\u001b[0m \u001b[0mneighbor\u001b[0m\u001b[0;34m\u001b[0m\u001b[0m\n\u001b[1;32m      6\u001b[0m \u001b[0;34m\u001b[0m\u001b[0m\n\u001b[0;32m----> 7\u001b[0;31m     \u001b[0mdelta_E\u001b[0m \u001b[0;34m=\u001b[0m \u001b[0;36m2\u001b[0m \u001b[0;34m*\u001b[0m \u001b[0mlattice\u001b[0m\u001b[0;34m.\u001b[0m\u001b[0mget\u001b[0m\u001b[0;34m(\u001b[0m\u001b[0mi\u001b[0m\u001b[0;34m,\u001b[0m \u001b[0mj\u001b[0m\u001b[0;34m)\u001b[0m \u001b[0;34m*\u001b[0m \u001b[0mH_mol\u001b[0m\u001b[0;34m\u001b[0m\u001b[0m\n\u001b[0m\u001b[1;32m      8\u001b[0m \u001b[0;34m\u001b[0m\u001b[0m\n\u001b[1;32m      9\u001b[0m     \u001b[0;32mif\u001b[0m \u001b[0mnp\u001b[0m\u001b[0;34m.\u001b[0m\u001b[0mrandom\u001b[0m\u001b[0;34m.\u001b[0m\u001b[0muniform\u001b[0m\u001b[0;34m(\u001b[0m\u001b[0;34m)\u001b[0m \u001b[0;34m<\u001b[0m \u001b[0mmath\u001b[0m\u001b[0;34m.\u001b[0m\u001b[0mexp\u001b[0m\u001b[0;34m(\u001b[0m\u001b[0;34m-\u001b[0m\u001b[0mbeta\u001b[0m \u001b[0;34m*\u001b[0m \u001b[0mdelta_E\u001b[0m\u001b[0;34m)\u001b[0m\u001b[0;34m:\u001b[0m\u001b[0;34m\u001b[0m\u001b[0m\n",
      "\u001b[0;32m<ipython-input-3-1a4f94f683e7>\u001b[0m in \u001b[0;36mget\u001b[0;34m(self, i, *args)\u001b[0m\n\u001b[1;32m     13\u001b[0m         \u001b[0mnew_i\u001b[0m \u001b[0;34m=\u001b[0m \u001b[0mi\u001b[0m \u001b[0;34m%\u001b[0m \u001b[0mself\u001b[0m\u001b[0;34m.\u001b[0m\u001b[0m_size_x\u001b[0m\u001b[0;34m\u001b[0m\u001b[0m\n\u001b[1;32m     14\u001b[0m         \u001b[0mnew_j\u001b[0m \u001b[0;34m=\u001b[0m \u001b[0mj\u001b[0m \u001b[0;34m%\u001b[0m \u001b[0mself\u001b[0m\u001b[0;34m.\u001b[0m\u001b[0m_size_y\u001b[0m\u001b[0;34m\u001b[0m\u001b[0m\n\u001b[0;32m---> 15\u001b[0;31m         \u001b[0;32mreturn\u001b[0m \u001b[0mself\u001b[0m\u001b[0;34m.\u001b[0m\u001b[0m_lattice\u001b[0m\u001b[0;34m[\u001b[0m\u001b[0mnew_i\u001b[0m\u001b[0;34m,\u001b[0m \u001b[0mnew_j\u001b[0m\u001b[0;34m]\u001b[0m\u001b[0;34m\u001b[0m\u001b[0m\n\u001b[0m\u001b[1;32m     16\u001b[0m \u001b[0;34m\u001b[0m\u001b[0m\n\u001b[1;32m     17\u001b[0m     \u001b[0;32mdef\u001b[0m \u001b[0mflip\u001b[0m\u001b[0;34m(\u001b[0m\u001b[0mself\u001b[0m\u001b[0;34m,\u001b[0m \u001b[0mi\u001b[0m\u001b[0;34m,\u001b[0m \u001b[0;34m*\u001b[0m\u001b[0margs\u001b[0m\u001b[0;34m)\u001b[0m\u001b[0;34m:\u001b[0m\u001b[0;34m\u001b[0m\u001b[0m\n",
      "\u001b[0;31mKeyboardInterrupt\u001b[0m: "
     ]
    }
   ],
   "source": [
    "# metropolis simulation\n",
    "N = 30\n",
    "J = 1\n",
    "Ts = np.linspace(2, 3, 10)\n",
    "\n",
    "energies = []\n",
    "\n",
    "for T in Ts:\n",
    "    beta = 1 / T\n",
    "    energies.append(metropolis_sim_sweep(N, J, beta))\n",
    "    \n",
    "with open(\"metropolis_t_e_c_sweep.out\", \"w\") as out_file:\n",
    "    avg_e = [np.average(e) for e in energies]\n",
    "    avg_e2 = [np.average(np.asarray(e)**2) for e in energies]\n",
    "    std_e = [np.std(e)**2 for e in energies]    \n",
    "    \n",
    "    for T, e, e2, s in zip(Ts, avg_e, avg_e2, std_e):\n",
    "        beta = 1 / T\n",
    "        C = s / N**2\n",
    "        out_file.write(\"{} {} {}\\n\".format(T, e / N**2, C))"
   ]
  },
  {
   "cell_type": "code",
   "execution_count": 86,
   "metadata": {},
   "outputs": [
    {
     "data": {
      "text/plain": [
       "[-0.19955555555555557, -2.0]"
      ]
     },
     "execution_count": 86,
     "metadata": {},
     "output_type": "execute_result"
    }
   ],
   "source": [
    "[np.average(e) for e in energies]"
   ]
  },
  {
   "cell_type": "code",
   "execution_count": 87,
   "metadata": {},
   "outputs": [
    {
     "data": {
      "text/plain": [
       "[0.041866666666666677, 4.0]"
      ]
     },
     "execution_count": 87,
     "metadata": {},
     "output_type": "execute_result"
    }
   ],
   "source": [
    "[np.average(np.asarray(e)**2) for e in energies]"
   ]
  },
  {
   "cell_type": "code",
   "execution_count": 88,
   "metadata": {},
   "outputs": [
    {
     "data": {
      "text/plain": [
       "[0.0020442469135802527, 0.0]"
      ]
     },
     "execution_count": 88,
     "metadata": {},
     "output_type": "execute_result"
    }
   ],
   "source": [
    "[np.average(np.asarray(e)**2) - np.average(e)**2 for e in energies]"
   ]
  },
  {
   "cell_type": "code",
   "execution_count": 90,
   "metadata": {},
   "outputs": [
    {
     "ename": "KeyboardInterrupt",
     "evalue": "",
     "output_type": "error",
     "traceback": [
      "\u001b[0;31m---------------------------------------------------------------------------\u001b[0m",
      "\u001b[0;31mKeyboardInterrupt\u001b[0m                         Traceback (most recent call last)",
      "\u001b[0;32m<ipython-input-90-c812aecceb2e>\u001b[0m in \u001b[0;36m<module>\u001b[0;34m()\u001b[0m\n\u001b[1;32m      7\u001b[0m \u001b[0;34m\u001b[0m\u001b[0m\n\u001b[1;32m      8\u001b[0m \u001b[0;32mfor\u001b[0m \u001b[0mT\u001b[0m \u001b[0;32min\u001b[0m \u001b[0mTs\u001b[0m\u001b[0;34m:\u001b[0m\u001b[0;34m\u001b[0m\u001b[0m\n\u001b[0;32m----> 9\u001b[0;31m     \u001b[0menergies\u001b[0m\u001b[0;34m.\u001b[0m\u001b[0mappend\u001b[0m\u001b[0;34m(\u001b[0m\u001b[0mwolff_sim_sweep\u001b[0m\u001b[0;34m(\u001b[0m\u001b[0mN\u001b[0m\u001b[0;34m,\u001b[0m \u001b[0mJ\u001b[0m\u001b[0;34m,\u001b[0m \u001b[0mT\u001b[0m\u001b[0;34m)\u001b[0m\u001b[0;34m)\u001b[0m\u001b[0;34m\u001b[0m\u001b[0m\n\u001b[0m",
      "\u001b[0;32m<ipython-input-77-be9e57313193>\u001b[0m in \u001b[0;36mwolff_sim_sweep\u001b[0;34m(N, J, beta)\u001b[0m\n\u001b[1;32m     11\u001b[0m     \u001b[0;32mfor\u001b[0m \u001b[0ms\u001b[0m \u001b[0;32min\u001b[0m \u001b[0mrange\u001b[0m\u001b[0;34m(\u001b[0m\u001b[0mnum_snapshots\u001b[0m\u001b[0;34m)\u001b[0m\u001b[0;34m:\u001b[0m\u001b[0;34m\u001b[0m\u001b[0m\n\u001b[1;32m     12\u001b[0m         \u001b[0;32mfor\u001b[0m \u001b[0mn\u001b[0m \u001b[0;32min\u001b[0m \u001b[0mrange\u001b[0m\u001b[0;34m(\u001b[0m\u001b[0mnum_sweeps\u001b[0m\u001b[0;34m)\u001b[0m\u001b[0;34m:\u001b[0m\u001b[0;34m\u001b[0m\u001b[0m\n\u001b[0;32m---> 13\u001b[0;31m             \u001b[0msweep_wolff\u001b[0m\u001b[0;34m(\u001b[0m\u001b[0mlattice\u001b[0m\u001b[0;34m,\u001b[0m \u001b[0mJ\u001b[0m\u001b[0;34m,\u001b[0m \u001b[0mbeta\u001b[0m\u001b[0;34m)\u001b[0m\u001b[0;34m\u001b[0m\u001b[0m\n\u001b[0m\u001b[1;32m     14\u001b[0m             \u001b[0menergies\u001b[0m\u001b[0;34m[\u001b[0m\u001b[0ms\u001b[0m\u001b[0;34m]\u001b[0m \u001b[0;34m=\u001b[0m \u001b[0mcompute_H\u001b[0m\u001b[0;34m(\u001b[0m\u001b[0mlattice\u001b[0m\u001b[0;34m,\u001b[0m \u001b[0mJ\u001b[0m\u001b[0;34m)\u001b[0m\u001b[0;34m\u001b[0m\u001b[0m\n\u001b[1;32m     15\u001b[0m \u001b[0;34m\u001b[0m\u001b[0m\n",
      "\u001b[0;32m<ipython-input-75-c6cd39871c8a>\u001b[0m in \u001b[0;36msweep_wolff\u001b[0;34m(lattice, J, beta)\u001b[0m\n\u001b[1;32m      3\u001b[0m     \u001b[0;32mfor\u001b[0m \u001b[0mx\u001b[0m \u001b[0;32min\u001b[0m \u001b[0mrange\u001b[0m\u001b[0;34m(\u001b[0m\u001b[0msize_x\u001b[0m\u001b[0;34m)\u001b[0m\u001b[0;34m:\u001b[0m\u001b[0;34m\u001b[0m\u001b[0m\n\u001b[1;32m      4\u001b[0m         \u001b[0;32mfor\u001b[0m \u001b[0my\u001b[0m \u001b[0;32min\u001b[0m \u001b[0mrange\u001b[0m\u001b[0;34m(\u001b[0m\u001b[0msize_y\u001b[0m\u001b[0;34m)\u001b[0m\u001b[0;34m:\u001b[0m\u001b[0;34m\u001b[0m\u001b[0m\n\u001b[0;32m----> 5\u001b[0;31m             \u001b[0mwolff_step\u001b[0m\u001b[0;34m(\u001b[0m\u001b[0mlattice\u001b[0m\u001b[0;34m,\u001b[0m \u001b[0mx\u001b[0m\u001b[0;34m,\u001b[0m \u001b[0my\u001b[0m\u001b[0;34m,\u001b[0m \u001b[0mJ\u001b[0m\u001b[0;34m,\u001b[0m \u001b[0mbeta\u001b[0m\u001b[0;34m)\u001b[0m\u001b[0;34m\u001b[0m\u001b[0m\n\u001b[0m",
      "\u001b[0;32m<ipython-input-44-f691fd6517d1>\u001b[0m in \u001b[0;36mwolff_step\u001b[0;34m(lattice, i, j, J, beta)\u001b[0m\n\u001b[1;32m     19\u001b[0m         \u001b[0mleft\u001b[0m \u001b[0;34m=\u001b[0m \u001b[0mnp\u001b[0m\u001b[0;34m.\u001b[0m\u001b[0mroll\u001b[0m\u001b[0;34m(\u001b[0m\u001b[0mF_old\u001b[0m\u001b[0;34m,\u001b[0m \u001b[0;34m-\u001b[0m\u001b[0;36m1\u001b[0m\u001b[0;34m,\u001b[0m \u001b[0maxis\u001b[0m\u001b[0;34m=\u001b[0m\u001b[0;36m1\u001b[0m\u001b[0;34m)\u001b[0m\u001b[0;34m\u001b[0m\u001b[0m\n\u001b[1;32m     20\u001b[0m         \u001b[0mright\u001b[0m \u001b[0;34m=\u001b[0m \u001b[0mnp\u001b[0m\u001b[0;34m.\u001b[0m\u001b[0mroll\u001b[0m\u001b[0;34m(\u001b[0m\u001b[0mF_old\u001b[0m\u001b[0;34m,\u001b[0m \u001b[0;36m1\u001b[0m\u001b[0;34m,\u001b[0m \u001b[0maxis\u001b[0m\u001b[0;34m=\u001b[0m\u001b[0;36m1\u001b[0m\u001b[0;34m)\u001b[0m\u001b[0;34m\u001b[0m\u001b[0m\n\u001b[0;32m---> 21\u001b[0;31m         \u001b[0mtop\u001b[0m \u001b[0;34m=\u001b[0m \u001b[0mnp\u001b[0m\u001b[0;34m.\u001b[0m\u001b[0mroll\u001b[0m\u001b[0;34m(\u001b[0m\u001b[0mF_old\u001b[0m\u001b[0;34m,\u001b[0m \u001b[0;34m-\u001b[0m\u001b[0;36m1\u001b[0m\u001b[0;34m,\u001b[0m \u001b[0maxis\u001b[0m\u001b[0;34m=\u001b[0m\u001b[0;36m0\u001b[0m\u001b[0;34m)\u001b[0m\u001b[0;34m\u001b[0m\u001b[0m\n\u001b[0m\u001b[1;32m     22\u001b[0m         \u001b[0mbottom\u001b[0m \u001b[0;34m=\u001b[0m \u001b[0mnp\u001b[0m\u001b[0;34m.\u001b[0m\u001b[0mroll\u001b[0m\u001b[0;34m(\u001b[0m\u001b[0mF_old\u001b[0m\u001b[0;34m,\u001b[0m \u001b[0;36m1\u001b[0m\u001b[0;34m,\u001b[0m \u001b[0maxis\u001b[0m\u001b[0;34m=\u001b[0m\u001b[0;36m0\u001b[0m\u001b[0;34m)\u001b[0m\u001b[0;34m\u001b[0m\u001b[0m\n\u001b[1;32m     23\u001b[0m \u001b[0;34m\u001b[0m\u001b[0m\n",
      "\u001b[0;32m/usr/local/lib/python3.4/dist-packages/numpy/core/numeric.py\u001b[0m in \u001b[0;36mroll\u001b[0;34m(a, shift, axis)\u001b[0m\n\u001b[1;32m   1416\u001b[0m         \u001b[0mrolls\u001b[0m \u001b[0;34m=\u001b[0m \u001b[0;34m[\u001b[0m\u001b[0;34m(\u001b[0m\u001b[0;34m(\u001b[0m\u001b[0mslice\u001b[0m\u001b[0;34m(\u001b[0m\u001b[0;32mNone\u001b[0m\u001b[0;34m)\u001b[0m\u001b[0;34m,\u001b[0m \u001b[0mslice\u001b[0m\u001b[0;34m(\u001b[0m\u001b[0;32mNone\u001b[0m\u001b[0;34m)\u001b[0m\u001b[0;34m)\u001b[0m\u001b[0;34m,\u001b[0m\u001b[0;34m)\u001b[0m\u001b[0;34m]\u001b[0m \u001b[0;34m*\u001b[0m \u001b[0ma\u001b[0m\u001b[0;34m.\u001b[0m\u001b[0mndim\u001b[0m\u001b[0;34m\u001b[0m\u001b[0m\n\u001b[1;32m   1417\u001b[0m         \u001b[0;32mfor\u001b[0m \u001b[0max\u001b[0m\u001b[0;34m,\u001b[0m \u001b[0moffset\u001b[0m \u001b[0;32min\u001b[0m \u001b[0mshifts\u001b[0m\u001b[0;34m.\u001b[0m\u001b[0mitems\u001b[0m\u001b[0;34m(\u001b[0m\u001b[0;34m)\u001b[0m\u001b[0;34m:\u001b[0m\u001b[0;34m\u001b[0m\u001b[0m\n\u001b[0;32m-> 1418\u001b[0;31m             \u001b[0moffset\u001b[0m \u001b[0;34m%=\u001b[0m \u001b[0ma\u001b[0m\u001b[0;34m.\u001b[0m\u001b[0mshape\u001b[0m\u001b[0;34m[\u001b[0m\u001b[0max\u001b[0m\u001b[0;34m]\u001b[0m \u001b[0;32mor\u001b[0m \u001b[0;36m1\u001b[0m  \u001b[0;31m# If `a` is empty, nothing matters.\u001b[0m\u001b[0;34m\u001b[0m\u001b[0m\n\u001b[0m\u001b[1;32m   1419\u001b[0m             \u001b[0;32mif\u001b[0m \u001b[0moffset\u001b[0m\u001b[0;34m:\u001b[0m\u001b[0;34m\u001b[0m\u001b[0m\n\u001b[1;32m   1420\u001b[0m                 \u001b[0;31m# (original, result), (original, result)\u001b[0m\u001b[0;34m\u001b[0m\u001b[0;34m\u001b[0m\u001b[0m\n",
      "\u001b[0;31mKeyboardInterrupt\u001b[0m: "
     ]
    }
   ],
   "source": [
    "# metropolis simulation\n",
    "N = 30\n",
    "J = 1\n",
    "Ts = np.linspace(0.1, 5, 2)\n",
    "\n",
    "energies = []\n",
    "\n",
    "for T in Ts:\n",
    "    energies.append(wolff_sim_sweep(N, J, T))"
   ]
  },
  {
   "cell_type": "code",
   "execution_count": 19,
   "metadata": {},
   "outputs": [
    {
     "name": "stdout",
     "output_type": "stream",
     "text": [
      "[[ 1  1 -1 -1  1  1  1 -1  1  1]\n",
      " [-1  1 -1  1 -1 -1  1  1  1  1]\n",
      " [-1  1  1 -1  1  1  1  1 -1  1]\n",
      " [ 1 -1  1  1  1 -1  1  1 -1 -1]\n",
      " [ 1  1 -1  1  1 -1 -1  1  1 -1]\n",
      " [-1 -1 -1  1  1  1  1  1 -1  1]\n",
      " [ 1 -1  1  1  1  1  1  1  1  1]\n",
      " [-1  1  1  1 -1  1  1  1  1  1]\n",
      " [ 1  1  1  1 -1 -1  1  1  1  1]\n",
      " [ 1  1  1  1  1 -1 -1  1 -1  1]]\n"
     ]
    },
    {
     "data": {
      "text/plain": [
       "-28.0"
      ]
     },
     "execution_count": 19,
     "metadata": {},
     "output_type": "execute_result"
    }
   ],
   "source": [
    "lattice = Lattice(10, 10)\n",
    "lattice.print()\n",
    "compute_H(lattice, 1)"
   ]
  },
  {
   "cell_type": "code",
   "execution_count": 22,
   "metadata": {},
   "outputs": [
    {
     "data": {
      "text/plain": [
       "9"
      ]
     },
     "execution_count": 22,
     "metadata": {},
     "output_type": "execute_result"
    }
   ],
   "source": [
    "(-1) % 10"
   ]
  },
  {
   "cell_type": "code",
   "execution_count": 24,
   "metadata": {},
   "outputs": [
    {
     "name": "stdout",
     "output_type": "stream",
     "text": [
      "14.6 s ± 1.7 s per loop (mean ± std. dev. of 7 runs, 1 loop each)\n"
     ]
    }
   ],
   "source": [
    "lattice = Lattice(10, 10)\n",
    "%timeit thermalize(lattice, 1, 1, 'metropolis')"
   ]
  },
  {
   "cell_type": "code",
   "execution_count": 37,
   "metadata": {},
   "outputs": [
    {
     "data": {
      "image/png": "[encoded data removed]",
      "text/plain": [
       "<matplotlib.figure.Figure at 0x7f0e771f5978>"
      ]
     },
     "metadata": {},
     "output_type": "display_data"
    }
   ],
   "source": [
    "Ts = []\n",
    "energies = []\n",
    "Cs = []\n",
    "acceptances = []\n",
    "\n",
    "with open(\"metropolis_sweep_c.txt\", 'r') as in_file:\n",
    "    lines = in_file.readlines()\n",
    "    for l in lines:\n",
    "        Ts.append(float(l.split()[0]))\n",
    "        energies.append(float(l.split()[1]))\n",
    "        Cs.append(float(l.split()[2]))\n",
    "        acceptances.append(float(l.split()[3]))\n",
    "        \n",
    "f, ax = plt.subplots(figsize=(14, 10))\n",
    "rcParams['font.size'] = 22\n",
    "\n",
    "ax.plot(Ts, energies, linestyle=\"None\", marker=\"^\", color=\"green\", label='Metropolis')\n",
    "ax.set_ylabel(r\"$\\langle E \\rangle$\", rotation=0, labelpad=30)\n",
    "ax.set_xlabel(r\"$T$\")\n",
    "\n",
    "plt.legend()\n",
    "plt.show()"
   ]
  },
  {
   "cell_type": "code",
   "execution_count": 36,
   "metadata": {},
   "outputs": [
    {
     "data": {
      "image/png": "[encoded data removed]",
      "text/plain": [
       "<matplotlib.figure.Figure at 0x7f0e74fea668>"
      ]
     },
     "metadata": {},
     "output_type": "display_data"
    }
   ],
   "source": [
    "f, ax = plt.subplots(figsize=(14, 10))\n",
    "rcParams['font.size'] = 22\n",
    "\n",
    "ax.plot(Ts, Cs, linestyle=\"None\", marker=\"^\", color=\"green\", label='Metropolis')\n",
    "ax.set_ylabel(r\"$\\langle C \\rangle$\", rotation=0, labelpad=30)\n",
    "ax.set_xlabel(r\"$T$\")\n",
    "\n",
    "plt.legend()\n",
    "plt.show()"
   ]
  },
  {
   "cell_type": "code",
   "execution_count": 39,
   "metadata": {},
   "outputs": [
    {
     "data": {
      "image/png": "[encoded data removed]",
      "text/plain": [
       "<matplotlib.figure.Figure at 0x7f0e750b62e8>"
      ]
     },
     "metadata": {},
     "output_type": "display_data"
    }
   ],
   "source": [
    "f, ax = plt.subplots(figsize=(14, 10))\n",
    "rcParams['font.size'] = 22\n",
    "\n",
    "ax.plot(Ts, acceptances, linestyle=\"None\", marker=\"^\", color=\"green\", label='Metropolis')\n",
    "ax.set_ylabel(\"Acceptance\", labelpad=30)\n",
    "ax.set_xlabel(r\"$T$\")\n",
    "\n",
    "plt.legend()\n",
    "plt.show()"
   ]
  },
  {
   "cell_type": "code",
   "execution_count": 46,
   "metadata": {},
   "outputs": [],
   "source": [
    "Ts = []\n",
    "energies = []\n",
    "Cs = []\n",
    "\n",
    "with open(\"wolff_sweep_c.txt\", 'r') as in_file:\n",
    "    lines = in_file.readlines()\n",
    "    for l in lines:\n",
    "        Ts.append(float(l.split()[0]))\n",
    "        energies.append(float(l.split()[1]))\n",
    "        Cs.append(float(l.split()[2]))"
   ]
  },
  {
   "cell_type": "code",
   "execution_count": 47,
   "metadata": {},
   "outputs": [
    {
     "data": {
      "image/png": "[encoded data removed]",
      "text/plain": [
       "<matplotlib.figure.Figure at 0x7f0e74c2c518>"
      ]
     },
     "metadata": {},
     "output_type": "display_data"
    }
   ],
   "source": [
    "f, ax = plt.subplots(figsize=(14, 10))\n",
    "rcParams['font.size'] = 22\n",
    "\n",
    "ax.plot(Ts, energies, linestyle=\"None\", marker=\"o\", color=\"gold\", label='Metropolis')\n",
    "ax.set_ylabel(r\"$\\langle E \\rangle$\", rotation=0, labelpad=30)\n",
    "ax.set_xlabel(r\"$T$\")\n",
    "\n",
    "plt.legend()\n",
    "plt.show()"
   ]
  },
  {
   "cell_type": "code",
   "execution_count": 49,
   "metadata": {},
   "outputs": [
    {
     "data": {
      "image/png": "[encoded data removed]",
      "text/plain": [
       "<matplotlib.figure.Figure at 0x7f0e7728e080>"
      ]
     },
     "metadata": {},
     "output_type": "display_data"
    }
   ],
   "source": [
    "f, ax = plt.subplots(figsize=(14, 10))\n",
    "rcParams['font.size'] = 22\n",
    "\n",
    "ax.plot(Ts, Cs, linestyle=\"None\", marker=\"o\", color=\"gold\", label='Wolff')\n",
    "ax.set_ylabel(r\"$\\langle E \\rangle$\", rotation=0, labelpad=30)\n",
    "ax.set_xlabel(r\"$T$\")\n",
    "\n",
    "plt.legend()\n",
    "plt.show()"
   ]
  },
  {
   "cell_type": "code",
   "execution_count": null,
   "metadata": {},
   "outputs": [],
   "source": []
  }
 ],
 "metadata": {
  "kernelspec": {
   "display_name": "Python 3",
   "language": "python",
   "name": "python3"
  },
  "language_info": {
   "codemirror_mode": {
    "name": "ipython",
    "version": 3
   },
   "file_extension": ".py",
   "mimetype": "text/x-python",
   "name": "python",
   "nbconvert_exporter": "python",
   "pygments_lexer": "ipython3",
   "version": "3.4.3"
  }
 },
 "nbformat": 4,
 "nbformat_minor": 2
}
